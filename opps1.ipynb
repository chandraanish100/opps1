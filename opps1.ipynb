{
 "cells": [
  {
   "cell_type": "code",
   "execution_count": 5,
   "id": "9c1f4e24-1813-42b5-a988-c3cc0d6b1aaf",
   "metadata": {},
   "outputs": [],
   "source": [
    "import logging as log\n",
    "class bankacc:\n",
    "    log.basicConfig(filename = \"bank.log\", level = log.DEBUG, format = '%(asctime)s- %(levelname)s - %(message)s')\n",
    "    try:\n",
    "        log.info(\"This is start my program\")\n",
    "        def __init__(self,accnumber,name,deposite,withdraw):\n",
    "            try:\n",
    "                self.accountnumber = accnumber\n",
    "                self.acount_holder_name = name\n",
    "                self.deposite_amount = deposite\n",
    "                self.withdrawl_amount = withdraw\n",
    "            except Exception as e:\n",
    "                log.error(e)\n",
    "        def extract_deatils(self):\n",
    "            try:\n",
    "                log.info(\"here your account number = %d\",self.accountnumber )\n",
    "                log.info(\"here your name.\")\n",
    "                log.info(self.acount_holder_name)\n",
    "                return \"here is your account number\", self.accountnumber , \"here is your account holder name.\" , self.acount_holder_name\n",
    "            except Exception as e:\n",
    "                log.error(e)\n",
    "        def balance(self):\n",
    "            try:\n",
    "                log.info(\"To know your balance.\")\n",
    "                if self.deposite_amount>self.withdrawl_amount:\n",
    "                    log.info(\"enter your deposite amount = %d\",self.deposite_amount)\n",
    "                    log.info(\"here is your withdrawl amount = %d\", self.withdrawl_amount)\n",
    "                    log.info(\"here your total balance.\")\n",
    "                    log.info(self.deposite_amount - self.withdrawl_amount)\n",
    "                    print( f\"here is your withdrawl amount {self.withdrawl_amount}\")\n",
    "                    print(f\"here is your total balance = {self.deposite_amount - self.withdrawl_amount}\")\n",
    "                else:\n",
    "                    print( \"you have not enough balance.\")\n",
    "            except Exception as e:\n",
    "                log.error(e)\n",
    "    except Exception as e:\n",
    "        log.error(e)"
   ]
  },
  {
   "cell_type": "code",
   "execution_count": 6,
   "id": "bc236fb2-8e52-46e1-9713-1981a80be786",
   "metadata": {},
   "outputs": [],
   "source": [
    "anik = bankacc(4646425343,\"anish\",50000,500)"
   ]
  },
  {
   "cell_type": "code",
   "execution_count": 7,
   "id": "2717232c-b972-40e5-a480-49a2596457aa",
   "metadata": {},
   "outputs": [
    {
     "data": {
      "text/plain": [
       "('here is your account number',\n",
       " 4646425343,\n",
       " 'here is your account holder name.',\n",
       " 'anish')"
      ]
     },
     "execution_count": 7,
     "metadata": {},
     "output_type": "execute_result"
    }
   ],
   "source": [
    "anik.extract_deatils()"
   ]
  },
  {
   "cell_type": "code",
   "execution_count": 8,
   "id": "c1ee4cf6-abcf-4e66-9516-9afdb48e6853",
   "metadata": {},
   "outputs": [
    {
     "name": "stdout",
     "output_type": "stream",
     "text": [
      "here is your withdrawl amount 500\n",
      "here is your total balance = 49500\n"
     ]
    }
   ],
   "source": [
    "anik.balance()"
   ]
  },
  {
   "cell_type": "code",
   "execution_count": 2,
   "id": "c4970bba-cca7-44d9-852b-2baafde01176",
   "metadata": {},
   "outputs": [],
   "source": [
    "import logging as log\n",
    "class Employee :\n",
    "    log.basicConfig(filename = \"Employee_Management.log\", level = log.DEBUG , format ='%(asctime)s- %(message)s')\n",
    "    try:\n",
    "        log.info(\"this is start my program.\")\n",
    "        log.info(\"enter your employee_ID , name & salary\")\n",
    "        def __init__(self, employee_ID, name, salary):\n",
    "            try:\n",
    "                self.employee_id = employee_ID\n",
    "                self.Name = name\n",
    "                self.Salary = salary\n",
    "            except Exception as e:\n",
    "                log.error(e)\n",
    "        def extract_deatails(self):\n",
    "            try:\n",
    "                log.info(\"here your name.\")\n",
    "                log.info(self.Name)\n",
    "                log.info(\"here your employee id.\")\n",
    "                log.info(self.employee_id)\n",
    "                print(f\"here your name {self.Name} & here your employee id {self.employee_id}.\")\n",
    "            except Exception as e:\n",
    "                log.error(e)\n",
    "        def salary_incriment(self, year):\n",
    "            try:\n",
    "                log.info(\"here your salary = %d\", self.Salary)\n",
    "                if year <= 1:\n",
    "                    log.info(\"here your salary incriment.\")\n",
    "                    log.info(self.Salary*5/100 + self.Salary)\n",
    "                    print(f\"your salary incriment {self.Salary*5/100 + self.Salary}\")\n",
    "                elif 1< year <= 2:\n",
    "                    log.info(\"your salary incriment\")\n",
    "                    log.info(self.Salary*10/100 + self.Salary)\n",
    "                    print(f\"your salary incriment {self.Salary*10/100 + self.Salary}\")\n",
    "                elif 2< year <=4:\n",
    "                    log.info(\"your salary incriment\")\n",
    "                    log.info(self.Salary*15/100 + self.Salary)\n",
    "                    print(f\"your salary incriment {self.Salary*15/100 + self.Salary}\")\n",
    "                elif 4< year <=6:\n",
    "                    log.info(\"your salary incriment\")\n",
    "                    log.info(self.Salary*20/100 + self.Salary)\n",
    "                    print(f\"your salary incriment {self.Salary*20/100 + self.Salary}\")\n",
    "                elif 6< year <=8:\n",
    "                    log.info(\"your salary incriment\")\n",
    "                    log.info(self.Salary*25/100 + self.Salary)\n",
    "                    print(f\"your salary incriment {self.Salary*25/100 + self.Salary}\")\n",
    "                elif 8< year <=10:\n",
    "                    log.info(\"your salary incriment\")\n",
    "                    log.info(self.Salary*30/100 + self.Salary)\n",
    "                    print(f\"your salary incriment {self.Salary*30/100 + self.Salary}\")\n",
    "                else:\n",
    "                    log.info(\"your salary incriment\")\n",
    "                    log.info(self.Salary*50/100 + self.Salary)\n",
    "                    print(f\"your salary incriment {self.Salary*50/100 + self.Salary}\")\n",
    "            except Exception as e:\n",
    "                log.error(e)\n",
    "    except Exception as e:\n",
    "        log.error(e)\n",
    "                    \n",
    "                    \n",
    "                    "
   ]
  },
  {
   "cell_type": "code",
   "execution_count": 3,
   "id": "4d861b6a-1f63-4d8a-aca4-8fc7d3ce4319",
   "metadata": {},
   "outputs": [],
   "source": [
    "anik = Employee(545,\"anirban\",50000)"
   ]
  },
  {
   "cell_type": "code",
   "execution_count": 4,
   "id": "0923103a-561e-4963-b7e6-bfd427502be2",
   "metadata": {},
   "outputs": [
    {
     "name": "stdout",
     "output_type": "stream",
     "text": [
      "here your name anirban & here your employee id 545.\n"
     ]
    }
   ],
   "source": [
    "anik.extract_deatails()"
   ]
  },
  {
   "cell_type": "code",
   "execution_count": 5,
   "id": "40cc3c91-4a45-4b63-b84c-c85c499b6411",
   "metadata": {},
   "outputs": [
    {
     "name": "stdout",
     "output_type": "stream",
     "text": [
      "your salary incriment 60000.0\n"
     ]
    }
   ],
   "source": [
    "anik.salary_incriment(6)"
   ]
  },
  {
   "cell_type": "code",
   "execution_count": 1,
   "id": "02d84fab-ecdd-466f-9b4a-9dbc6c91a22f",
   "metadata": {},
   "outputs": [],
   "source": [
    "class Book:\n",
    "    def __init__(self, title, author):\n",
    "        self.title = title\n",
    "        self.author = author\n",
    "        self.available = True\n",
    "\n",
    "    def __str__(self):\n",
    "        return f\"{self.title} by {self.author}\"\n",
    "\n",
    "class Library:\n",
    "    def __init__(self):\n",
    "        self.books = []\n",
    "\n",
    "    def add_book(self, book):\n",
    "        self.books.append(book)\n",
    "\n",
    "    def borrow_book(self, book):\n",
    "        if book in self.books and book.available:\n",
    "            book.available = False\n",
    "            print(f\"You borrowed '{book.title}' by {book.author}.\")\n",
    "        else:\n",
    "            print(f\"Sorry, '{book.title}' is not available.\")\n",
    "\n",
    "    def return_book(self, book):\n",
    "        if book in self.books and not book.available:\n",
    "            book.available = True\n",
    "            print(f\"You returned '{book.title}' by {book.author}.\")\n",
    "        else:\n",
    "            print(f\"'{book.title}' is already available on the shelf.\")\n",
    "\n",
    "    def display_available_books(self):\n",
    "        print(\"Available books:\")\n",
    "        for book in self.books:\n",
    "            if book.available:\n",
    "                print(book)\n",
    "\n",
    "\n"
   ]
  },
  {
   "cell_type": "code",
   "execution_count": 2,
   "id": "0f8d50c0-502e-44bd-a166-682d65728200",
   "metadata": {},
   "outputs": [
    {
     "name": "stdout",
     "output_type": "stream",
     "text": [
      "Available books:\n",
      "To Kill a Mockingbird by Harper Lee\n",
      "1984 by George Orwell\n",
      "The Great Gatsby by F. Scott Fitzgerald\n",
      "\n",
      "You borrowed 'To Kill a Mockingbird' by Harper Lee.\n",
      "\n",
      "Available books:\n",
      "1984 by George Orwell\n",
      "The Great Gatsby by F. Scott Fitzgerald\n",
      "\n",
      "You returned 'To Kill a Mockingbird' by Harper Lee.\n",
      "\n",
      "Available books:\n",
      "To Kill a Mockingbird by Harper Lee\n",
      "1984 by George Orwell\n",
      "The Great Gatsby by F. Scott Fitzgerald\n"
     ]
    }
   ],
   "source": [
    "library = Library()\n",
    "\n",
    "book1 = Book(\"To Kill a Mockingbird\", \"Harper Lee\")\n",
    "book2 = Book(\"1984\", \"George Orwell\")\n",
    "book3 = Book(\"The Great Gatsby\", \"F. Scott Fitzgerald\")\n",
    "\n",
    "library.add_book(book1)\n",
    "library.add_book(book2)\n",
    "library.add_book(book3)\n",
    "\n",
    "library.display_available_books()\n",
    "print()\n",
    "\n",
    "library.borrow_book(book1)\n",
    "print()\n",
    "\n",
    "library.display_available_books()\n",
    "print()\n",
    "\n",
    "library.return_book(book1)\n",
    "print()\n",
    "\n",
    "library.display_available_books()\n"
   ]
  },
  {
   "cell_type": "code",
   "execution_count": 8,
   "id": "4f88f5e7-598e-43fd-8310-27cd7ed797f2",
   "metadata": {},
   "outputs": [],
   "source": [
    "import logging as log\n",
    "class Email_Management :\n",
    "    log.basicConfig(filename = \"Email.log\", level = log.DEBUG, format = '%(asctime)s- %(levelname)s - %(message)s')\n",
    "    try:\n",
    "        log.info(\"this is start my program.\")\n",
    "        def __init__(self, sender, recipient, subject, body):\n",
    "            try:\n",
    "                self.sen_der = sender\n",
    "                self.reci_pent = recipient\n",
    "                self.sub_ject = subject\n",
    "                self.bo_dy = body\n",
    "            except Exception as e:\n",
    "                log.error(e)\n",
    "        def send(self):\n",
    "            try:\n",
    "                self.sent = True\n",
    "                log.info(\"your email sent sucessfully.\")\n",
    "                print(\"Email sent sucessfully.\")\n",
    "            except Exception as e:\n",
    "                log.error(e)\n",
    "            \n",
    "        def subJect(self):\n",
    "            try:\n",
    "                log.info(\"sender\")\n",
    "                log.info(self.sen_der)\n",
    "                print(\"sender :\", self.sen_der)\n",
    "                log.info(\"recipient\")\n",
    "                log.info( self.reci_pent)\n",
    "                print(\"recipient :\", self.reci_pent)\n",
    "                log.info(\"subject\")\n",
    "                log.info(self.sub_ject)\n",
    "                print(\"subject : \", self.sub_ject)\n",
    "                log.info(\"body\")\n",
    "                log.info(self.bo_dy)\n",
    "                print(\"body :\", self.bo_dy)\n",
    "                if self.sent:\n",
    "                    log.info(\"your status is sent.\")\n",
    "                    print(\"status : sent\")\n",
    "                else:\n",
    "                    log.info(\"your status on draft.\")\n",
    "                    print(\"status : draft\")\n",
    "            except Exception as e:\n",
    "                log.error(e)\n",
    "    except Exception as e:\n",
    "        log.error(e)\n",
    "            \n",
    "        "
   ]
  },
  {
   "cell_type": "code",
   "execution_count": 9,
   "id": "67e2d439-c45a-4afd-9ac0-ec238ac372c9",
   "metadata": {},
   "outputs": [],
   "source": [
    "anish = Email_Management(\"anik69@gmail.com\", \"anish96@gmail.com\", \"I love you\", \"dear you are looking gorgeas.\")\n",
    " "
   ]
  },
  {
   "cell_type": "code",
   "execution_count": 10,
   "id": "4e67982d-73f0-4ed1-a5b2-8529bf8bb8ff",
   "metadata": {},
   "outputs": [
    {
     "name": "stdout",
     "output_type": "stream",
     "text": [
      "Email sent sucessfully.\n"
     ]
    }
   ],
   "source": [
    "anish.send()"
   ]
  },
  {
   "cell_type": "code",
   "execution_count": 11,
   "id": "0ee15ff3-3be6-4127-af15-92952b5c2c35",
   "metadata": {},
   "outputs": [
    {
     "name": "stdout",
     "output_type": "stream",
     "text": [
      "sender : anik69@gmail.com\n",
      "recipient : anish96@gmail.com\n",
      "subject :  I love you\n",
      "body : dear you are looking gorgeas.\n",
      "status : sent\n"
     ]
    }
   ],
   "source": [
    "anish.subJect()"
   ]
  },
  {
   "cell_type": "code",
   "execution_count": 1,
   "id": "7b8ebdc2-0a39-4ec8-aa71-9c6a11925c95",
   "metadata": {},
   "outputs": [],
   "source": [
    "import logging as log\n",
    "class Student_Management:\n",
    "    log.basicConfig(filename = \"student.log\", level = log.DEBUG, format = '%(asctime)s- %(levelname)s - %(message)s')\n",
    "    try:\n",
    "        log.info(\"this is start my program.\")\n",
    "        def __init__(self, student_id, name, grades):\n",
    "            try:\n",
    "                self.studentid = student_id\n",
    "                self.Name = name\n",
    "                self.Grades = grades\n",
    "            except Exception as e:\n",
    "                log.error(e)\n",
    "        def calculate_avarage_grade(self):\n",
    "            try:\n",
    "                if not self.Grades:\n",
    "                    log.info(\"if not in grades = %d\", self.Grades)\n",
    "                    return 0\n",
    "                log.info(sum(self.Grades)/len(self.Grades))\n",
    "                return sum(self.Grades)/len(self.Grades)\n",
    "            except Exception as e:\n",
    "                log.error(e)\n",
    "        def extract_deatails(self):\n",
    "            try:\n",
    "                log.info(\"here your student id :\")\n",
    "                log.info(self.studentid)\n",
    "                log.info(\"here your name : \")\n",
    "                log.info(self.Name)\n",
    "                print(f\"here your student id {self.studentid} & name {self.Name}\")\n",
    "                log.info(\"here your grades : \")\n",
    "                log.info(self.Grades)\n",
    "                print(f\"here your grades {self.Grades}\")\n",
    "                log.info(\"avarage grade : \")\n",
    "                log.info(self.calculate_avarage_grade())\n",
    "                print(\"avarage grade : \", self.calculate_avarage_grade())\n",
    "            except Exception as e:\n",
    "                log.error(e)\n",
    "        def grades_of_students(self):\n",
    "            try:\n",
    "                log.info(\"here grades of students.\") \n",
    "                if 90<= self.calculate_avarage_grade() <= 100:\n",
    "                    log.info(\"A+ grade students name = \")\n",
    "                    log.info(self.Name)\n",
    "                    log.info(\"student id = \")\n",
    "                    log.info(self.studentid)\n",
    "                    log.info(\"avarage grade :\")\n",
    "                    log.info(self.calculate_avarage_grade())\n",
    "                    print(f\"A+ grade students name {self.Name} & student id {self.studentid} & avarage grade :\",  self.calculate_avarage_grade())\n",
    "                elif 80<= self.calculate_avarage_grade() <90:\n",
    "                    log.info(\"A+ grade students name = \")\n",
    "                    log.info(self.Name)\n",
    "                    log.info(\"student id = \")\n",
    "                    log.info(self.studentid)\n",
    "                    log.info(\"avarage grade :\")\n",
    "                    log.info(self.calculate_avarage_grade())\n",
    "                    print(f\"A grade students name {self.Name} & student id {self.studentid} & avarage grade :\", self.calculate_avarage_grade())\n",
    "                elif 70<= self.calculate_avarage_grade() <80:\n",
    "                    log.info(\"A+ grade students name = \")\n",
    "                    log.info(self.Name)\n",
    "                    log.info(\"student id = \")\n",
    "                    log.info(self.studentid)\n",
    "                    log.info(\"avarage grade :\")\n",
    "                    log.info(self.calculate_avarage_grade())\n",
    "                    print(f\"B+ grade students name {self.Name} & student id {self.studentid}& avarage grade :\", self.calculate_avarage_grade())\n",
    "                elif 60<= self.calculate_avarage_grade() <70:\n",
    "                    log.info(\"A+ grade students name = \")\n",
    "                    log.info(self.Name)\n",
    "                    log.info(\"student id = \")\n",
    "                    log.info(self.studentid)\n",
    "                    log.info(\"avarage grade :\")\n",
    "                    log.info(self.calculate_avarage_grade())\n",
    "                    print(f\"B grade students name {self.Name} & student id {self.studentid} & avarage grade :\", self.calculate_avarage_grade())\n",
    "                elif 50<= self.calculate_avarage_grade() <60:\n",
    "                    log.info(\"A+ grade students name = \")\n",
    "                    log.info(self.Name)\n",
    "                    log.info(\"student id = \")\n",
    "                    log.info(self.studentid)\n",
    "                    log.info(\"avarage grade :\")\n",
    "                    log.info(self.calculate_avarage_grade())\n",
    "                    print(f\"C grade students name {self.Name} & student id {self.studentid} & avarage grade :\", self.calculate_avarage_grade())\n",
    "                elif 40<= self.calculate_avarage_grade() <50:\n",
    "                    log.info(\"A+ grade students name = \")\n",
    "                    log.info(self.Name)\n",
    "                    log.info(\"student id = \")\n",
    "                    log.info(self.studentid)\n",
    "                    log.info(\"avarage grade :\")\n",
    "                    log.info(self.calculate_avarage_grade())\n",
    "                    print(f\"D grade students name {self.Name} & student id {self.studentid}& avarage grade :\", self.calculate_avarage_grade())\n",
    "                else:\n",
    "                    log.info(\"you are in danger zone for your parents.your student name & id\")\n",
    "                    log.info(self.Name)\n",
    "                    log.info(self.studentid)\n",
    "                    log.info(\"avarage grade :\")\n",
    "                    log.info(self.calculate_avarage_grade())\n",
    "                    print(f\"you are in danger zone for your parents.your student name & id {self.Name} {self.studentid} & avarage grade :\", self.calculate_avarage_grade())\n",
    "            except Exception as e:\n",
    "                log.error(e)\n",
    "    except Exception as e:\n",
    "        log.error(e)\n",
    "        \n",
    "            \n",
    "        \n",
    "        \n",
    "        "
   ]
  },
  {
   "cell_type": "code",
   "execution_count": 2,
   "id": "9e3aece8-4473-47e7-bc31-3f1b5f3359d3",
   "metadata": {},
   "outputs": [],
   "source": [
    "anish = Student_Management(509, \"Anish\", [67,43,14])\n",
    "anik = Student_Management(510, \"Anik\", [69,50,74])\n",
    "anirban = Student_Management(511, \"Anirban\", [89,98,56])"
   ]
  },
  {
   "cell_type": "code",
   "execution_count": 3,
   "id": "52cbf5c5-ad80-4780-b1ab-5f9824b9407d",
   "metadata": {},
   "outputs": [
    {
     "data": {
      "text/plain": [
       "41.333333333333336"
      ]
     },
     "execution_count": 3,
     "metadata": {},
     "output_type": "execute_result"
    }
   ],
   "source": [
    "anish.calculate_avarage_grade()"
   ]
  },
  {
   "cell_type": "code",
   "execution_count": 4,
   "id": "9e999b7b-20aa-4c11-b942-ade2e9fa4a97",
   "metadata": {},
   "outputs": [
    {
     "name": "stdout",
     "output_type": "stream",
     "text": [
      "here your student id 510 & name Anik\n",
      "here your grades [69, 50, 74]\n",
      "avarage grade :  64.33333333333333\n"
     ]
    }
   ],
   "source": [
    "anik.extract_deatails()"
   ]
  },
  {
   "cell_type": "code",
   "execution_count": 5,
   "id": "317a3826-88a6-4795-b944-13f16ac97d8c",
   "metadata": {},
   "outputs": [
    {
     "name": "stdout",
     "output_type": "stream",
     "text": [
      "B grade students name Anik & student id 510 & avarage grade : 64.33333333333333\n"
     ]
    }
   ],
   "source": [
    "anik.grades_of_students()"
   ]
  },
  {
   "cell_type": "code",
   "execution_count": 6,
   "id": "8409a578-a63c-47bf-ae7c-1fd6d010db0b",
   "metadata": {},
   "outputs": [
    {
     "name": "stdout",
     "output_type": "stream",
     "text": [
      "A grade students name Anirban & student id 511 & avarage grade : 81.0\n"
     ]
    }
   ],
   "source": [
    "anirban.grades_of_students()"
   ]
  },
  {
   "cell_type": "code",
   "execution_count": 1,
   "id": "0b1d2fff-8572-40a0-b7d7-059f293dd357",
   "metadata": {},
   "outputs": [],
   "source": [
    "import logging as log\n",
    "class Social_Media:\n",
    "    log.basicConfig(filename = \"social.log\", level = log.DEBUG, format = '%(asctime)s- %(levelname)s - %(message)s')\n",
    "    try:\n",
    "        log.info(\"starting your social meadia journey.\")\n",
    "        log.info(\"welcome to social meadia.\")\n",
    "        def __init__(self, username):\n",
    "            try:\n",
    "                self.user_name = username\n",
    "                self.Posts = []\n",
    "            except Exception as e:\n",
    "                log.error(e)\n",
    "        def details_post(self, post):\n",
    "            try:\n",
    "                log.info(self.posts.append(post))\n",
    "                self.posts.append(post)\n",
    "            except Exception as e:\n",
    "                log.error(e)\n",
    "        def display_post(self):\n",
    "            try:\n",
    "                log.info(\"posts by : \")\n",
    "                log.info(self.user_name)\n",
    "                print(f\"posts by {self.user_name}\")\n",
    "                for posts in self.Posts:\n",
    "                    log.info(posts)\n",
    "                    print(posts)\n",
    "            except Exception as e:\n",
    "                log.error(e)\n",
    "        def search_posts(self, keyword):\n",
    "            try:\n",
    "                log.info(\"post by : \")\n",
    "                log.info(self.user_name)\n",
    "                log.info(\"contating : \")\n",
    "                log.info(keyword)\n",
    "                print(f\"posts by {self.user_name} contating {keyword} :\")\n",
    "                for post in self.posts:\n",
    "                    if keyword.lower() in post.lower():\n",
    "                        log.info(post)\n",
    "                        print(post)\n",
    "            except Exception as e:\n",
    "                log.error(e)\n",
    "    except Exception as e:\n",
    "        log.error(e)\n",
    "        "
   ]
  },
  {
   "cell_type": "code",
   "execution_count": 2,
   "id": "f50092fb-4b14-42e5-9703-2ff37dbff57e",
   "metadata": {},
   "outputs": [],
   "source": [
    "profile = Social_Media(\"anirban_77\")"
   ]
  },
  {
   "cell_type": "code",
   "execution_count": 3,
   "id": "64806b9d-e619-4b0b-8af8-a9380ae149fa",
   "metadata": {},
   "outputs": [],
   "source": [
    "profile.details_post(\"you are just aswome.\")\n",
    "profile.details_post(\"don't freak me out.\")\n",
    "profile.details_post(\"don't speard faird.\")"
   ]
  },
  {
   "cell_type": "code",
   "execution_count": 4,
   "id": "f37b3648-a532-4a5b-a526-7e3f92110b4a",
   "metadata": {},
   "outputs": [
    {
     "name": "stdout",
     "output_type": "stream",
     "text": [
      "posts by anirban_77\n"
     ]
    }
   ],
   "source": [
    "profile.display_post()"
   ]
  },
  {
   "cell_type": "code",
   "execution_count": 5,
   "id": "63c7ca27-ed6c-4318-8280-aa4b0b728051",
   "metadata": {},
   "outputs": [
    {
     "name": "stdout",
     "output_type": "stream",
     "text": [
      "posts by anirban_77 contating out :\n"
     ]
    }
   ],
   "source": [
    "profile.search_posts(\"out\")"
   ]
  },
  {
   "cell_type": "code",
   "execution_count": 6,
   "id": "ac697e1b-f79a-40b4-812e-0a64ac378684",
   "metadata": {},
   "outputs": [
    {
     "name": "stdout",
     "output_type": "stream",
     "text": [
      "posts by anirban_77 contating faird :\n"
     ]
    }
   ],
   "source": [
    "profile.search_posts(\"faird\")"
   ]
  },
  {
   "cell_type": "code",
   "execution_count": 13,
   "id": "839d1f10-eb1b-41c2-bc99-3ab1f5168b35",
   "metadata": {},
   "outputs": [],
   "source": [
    "import logging as log\n",
    "class shape_calculation:\n",
    "    log.basicConfig(filename = \"shape.log\", level = log.DEBUG, format = '%(asctime)s- %(levelname)s - %(message)s')\n",
    "    try:\n",
    "        log.info(\"enjoy your shape calculation.\")\n",
    "        def __init__(self, length, width, height, radius, base):\n",
    "            try:\n",
    "                self.len = length\n",
    "                self.wid = width\n",
    "                self.high = height\n",
    "                self.rad = radius\n",
    "                self.Base = base\n",
    "                   \n",
    "            except Exception as e:\n",
    "                log.error(e)\n",
    "        def square(self):\n",
    "            try:\n",
    "                if self.len > 0 :\n",
    "                    log.info(\"here your primeter :\")\n",
    "                    log.info(4*self.len)\n",
    "                    log.info(\"here your area :\")\n",
    "                    log.info(self.len**2)\n",
    "                    print(f\"here your primeter : {4*self.len}\")\n",
    "                    print(f\"here your area : {self.len**2}\")\n",
    "                else:\n",
    "                    print(\"you give a wrong input.\")\n",
    "            except Exception as e:\n",
    "                log.error(e)\n",
    "        def parallelogram(self):\n",
    "            try:\n",
    "                if self.Base > 0 and self.high > 0:\n",
    "                    log.info(\"here your primeter :\")\n",
    "                    log.info(2*(self.Base+self.high))\n",
    "                    log.info(\"here your area :\")\n",
    "                    log.info(self.Base*self.high)\n",
    "                    print(f\"here your primeter : {2*(self.Base+self.high)}\")\n",
    "                    print(f\"here your area : {self.Base*self.high}\")\n",
    "                else:\n",
    "                    print(\"you give a wrong input.\")\n",
    "            except Exception as e:\n",
    "                log.error(e)\n",
    "        def trapezium(self):\n",
    "            try:\n",
    "                if self.len > 0 and self.wid > 0 and self.high > 0 and self.Base > 0:\n",
    "                    log.info(\"here your primeter :\")\n",
    "                    log.info(self.len+self.wid+self.high+self.Base)\n",
    "                    log.info(\"here your area :\")\n",
    "                    log.info(1/2*(self.len+self.wid+self.high+self.Base)*self.high)\n",
    "                    print(f\"here your primeter : {self.len+self.wid+self.high+self.Base}\")\n",
    "                    print(f\"here your area : {1/2*(self.len+self.wid+self.high+self.Base)*self.high}\")\n",
    "                else:\n",
    "                    print(\"you give a wrong input.\")\n",
    "            except Exception as e:\n",
    "                log.error(e)\n",
    "        def circle(self):\n",
    "            try:\n",
    "                if self.rad > 0:\n",
    "                    log.info(\"here your primeter :\")\n",
    "                    log.info(2*3.14*self.rad)\n",
    "                    log.info(\"here your area :\")\n",
    "                    log.info(3.14*self.rad**2)\n",
    "                    print(f\"here your primeter : {2*3.14*self.rad}\")\n",
    "                    print(f\"here your area : {3.14*self.rad**2}\")\n",
    "                else:\n",
    "                    print(\"you give a wrong input.\")\n",
    "            except Exception as e:\n",
    "                log.error(e)\n",
    "        def cube(self):\n",
    "            try:\n",
    "                if self.len > 0:\n",
    "                    log.info(\"here your area :\")\n",
    "                    log.info(6*self.len**2)\n",
    "                    log.info(\"here your volume :\")\n",
    "                    log.info(self.len**3)\n",
    "                    print(f\"here your area : {6*self.len**2}\")\n",
    "                    print(f\"here your volume : {self.len**3}\")\n",
    "                else:\n",
    "                    print(\"you give a wrong input.\")\n",
    "            except Exception as e:\n",
    "                log.error(e)\n",
    "        def Cuboid(self):\n",
    "            try:\n",
    "                if self.len > 0 and self.wid > 0 and self.Base > 0:\n",
    "                    log.info(\"here your area :\")\n",
    "                    log.info(2*(self.len+self.wid+self.Base))\n",
    "                    log.info(\"here your volume :\")\n",
    "                    log.info(self.len*self.wid*self.Base)\n",
    "                    print(f\"here your area : {2*(self.len+self.wid+self.Base)}\")\n",
    "                    print(f\"here your volume : {self.len*self.wid*self.Base}\")\n",
    "                else:\n",
    "                    print(\"you give a wrong input.\")\n",
    "            except Exception as e:\n",
    "                log.error(e)\n",
    "        def Sphere(self):\n",
    "            try:\n",
    "                \n",
    "                if self.rad > 0:\n",
    "                    log.info(\"here your area :\")\n",
    "                    log.info(4*3.14*self.rad**2)\n",
    "                    log.info(\"here your volume :\")\n",
    "                    log.info((4/3)*3.14*self.rad**3)\n",
    "                    print(f\"here your area : {4*3.14*self.rad**2}\")\n",
    "                    print(f\"here your volume : {(4/3)*3.14*self.rad**3}\")\n",
    "                else:\n",
    "                    print(\"you give a wrong input.\")\n",
    "            except Exception as e:\n",
    "                log.error(e)\n",
    "        def Cylinder(self):\n",
    "            try:\n",
    "                \n",
    "                if self.rad > 0 and self.high > 0:\n",
    "                    log.info(\"here your Curved Surface Area :\")\n",
    "                    log.info(2*3.14*self.rad*self.high)\n",
    "                    log.info(\"here your Total Surface Area :\")\n",
    "                    log.info(2*3.14*self.rad*(self.rad+self.high))\n",
    "                    print(f\"here your Curved Surface Area : {2*3.14*self.rad*self.high}\")\n",
    "                    print(f\"here your Total Surface Area : {2*3.14*self.rad*(self.rad+self.high)}\")\n",
    "                else:\n",
    "                    print(\"you give a wrong input.\")\n",
    "            except Exception as e:\n",
    "                log.error(e)\n",
    "    except Exception as e:\n",
    "        log.error(e)\n"
   ]
  },
  {
   "cell_type": "code",
   "execution_count": 14,
   "id": "d85bc3fe-2498-4175-ac40-f15ff3fc517c",
   "metadata": {},
   "outputs": [],
   "source": [
    "anik = shape_calculation(10,12,14,15,16)"
   ]
  },
  {
   "cell_type": "code",
   "execution_count": 15,
   "id": "a01d590b-953c-4685-ba0b-fc766e3c0fb0",
   "metadata": {},
   "outputs": [
    {
     "name": "stdout",
     "output_type": "stream",
     "text": [
      "here your primeter : 94.2\n",
      "here your area : 706.5\n"
     ]
    }
   ],
   "source": [
    "anik.circle()"
   ]
  },
  {
   "cell_type": "code",
   "execution_count": 16,
   "id": "a05b0dd0-d007-4067-b2da-d42966c9c33c",
   "metadata": {},
   "outputs": [
    {
     "name": "stdout",
     "output_type": "stream",
     "text": [
      "here your area : 600\n",
      "here your volume : 1000\n"
     ]
    }
   ],
   "source": [
    "anik.cube()\n"
   ]
  },
  {
   "cell_type": "code",
   "execution_count": 17,
   "id": "0f624d9f-7936-4541-8204-78ff56d493c0",
   "metadata": {},
   "outputs": [
    {
     "name": "stdout",
     "output_type": "stream",
     "text": [
      "here your area : 76\n",
      "here your volume : 1920\n"
     ]
    }
   ],
   "source": [
    "anik.Cuboid()"
   ]
  },
  {
   "cell_type": "code",
   "execution_count": 18,
   "id": "1da61981-6964-44d6-9192-73c2c7a5dc1a",
   "metadata": {},
   "outputs": [
    {
     "name": "stdout",
     "output_type": "stream",
     "text": [
      "here your Curved Surface Area : 1318.8\n",
      "here your Total Surface Area : 2731.8\n"
     ]
    }
   ],
   "source": [
    "anik.Cylinder()"
   ]
  },
  {
   "cell_type": "code",
   "execution_count": 19,
   "id": "ee29520e-8fb5-42d1-bcb3-15d0be160383",
   "metadata": {},
   "outputs": [
    {
     "name": "stdout",
     "output_type": "stream",
     "text": [
      "here your primeter : 60\n",
      "here your area : 224\n"
     ]
    }
   ],
   "source": [
    "anik.parallelogram()"
   ]
  },
  {
   "cell_type": "code",
   "execution_count": 20,
   "id": "3e882e9e-4c31-4c62-a5b8-49ad69b08154",
   "metadata": {},
   "outputs": [
    {
     "ename": "AttributeError",
     "evalue": "'shape_calculation' object has no attribute 'rectangle'",
     "output_type": "error",
     "traceback": [
      "\u001b[0;31m---------------------------------------------------------------------------\u001b[0m",
      "\u001b[0;31mAttributeError\u001b[0m                            Traceback (most recent call last)",
      "Cell \u001b[0;32mIn[20], line 1\u001b[0m\n\u001b[0;32m----> 1\u001b[0m \u001b[43manik\u001b[49m\u001b[38;5;241;43m.\u001b[39;49m\u001b[43mrectangle\u001b[49m()\n",
      "\u001b[0;31mAttributeError\u001b[0m: 'shape_calculation' object has no attribute 'rectangle'"
     ]
    }
   ],
   "source": [
    "anik.rectangle()"
   ]
  },
  {
   "cell_type": "code",
   "execution_count": 21,
   "id": "5f452d3b-59af-47a4-afe9-dcbdccf81918",
   "metadata": {},
   "outputs": [
    {
     "name": "stdout",
     "output_type": "stream",
     "text": [
      "here your area : 2826.0\n",
      "here your volume : 14130.0\n"
     ]
    }
   ],
   "source": [
    "anik.Sphere()"
   ]
  },
  {
   "cell_type": "code",
   "execution_count": 22,
   "id": "8bc2c164-8469-4619-911b-6e20c9633cf9",
   "metadata": {},
   "outputs": [
    {
     "name": "stdout",
     "output_type": "stream",
     "text": [
      "here your primeter : 40\n",
      "here your area : 100\n"
     ]
    }
   ],
   "source": [
    "anik.square()"
   ]
  },
  {
   "cell_type": "code",
   "execution_count": 23,
   "id": "4b616c6c-5eda-4076-8a83-53907ef9e943",
   "metadata": {},
   "outputs": [
    {
     "name": "stdout",
     "output_type": "stream",
     "text": [
      "here your primeter : 52\n",
      "here your area : 364.0\n"
     ]
    }
   ],
   "source": [
    "anik.trapezium()"
   ]
  },
  {
   "cell_type": "code",
   "execution_count": null,
   "id": "6af1f766-502f-40cf-bf40-efdcd412b369",
   "metadata": {},
   "outputs": [],
   "source": []
  }
 ],
 "metadata": {
  "kernelspec": {
   "display_name": "Python 3 (ipykernel)",
   "language": "python",
   "name": "python3"
  },
  "language_info": {
   "codemirror_mode": {
    "name": "ipython",
    "version": 3
   },
   "file_extension": ".py",
   "mimetype": "text/x-python",
   "name": "python",
   "nbconvert_exporter": "python",
   "pygments_lexer": "ipython3",
   "version": "3.10.8"
  }
 },
 "nbformat": 4,
 "nbformat_minor": 5
}
